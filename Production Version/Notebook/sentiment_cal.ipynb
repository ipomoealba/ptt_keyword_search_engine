{
 "cells": [
  {
   "cell_type": "code",
   "execution_count": 1,
   "metadata": {},
   "outputs": [],
   "source": [
    "import MySQLdb\n",
    "\n",
    "db = MySQLdb.connect(\"127.0.0.1\",\"root\",\"tp6cj84jo\",\"ptt\", charset=\"utf8\")\n",
    "cursor = db.cursor()\n",
    "cursor.execute(\"SELECT post_name, ptime, reply \\\n",
    "                FROM User_save_post, Gossiping, Gossiping_Reply \\\n",
    "                WHERE class_id='%s' and user_id='%s' \\\n",
    "                    AND Gossiping.pid=User_save_post.pid \\\n",
    "                    AND Gossiping_Reply.pid=Gossiping.pid \\\n",
    "                ORDER BY ptime;\" % ('25255dsdsds', 1))\n",
    "data = cursor.fetchall()\n",
    "db.close()\n"
   ]
  },
  {
   "cell_type": "code",
   "execution_count": 2,
   "metadata": {},
   "outputs": [],
   "source": [
    "pos_list = []\n",
    "neg_list = []\n",
    "\n",
    "with open(\"./sentiment_dicts/ntusd-positive.txt\", 'r') as f:\n",
    "    pos_list = f.read().split('\\n')\n",
    "with open(\"./sentiment_dicts/ntusd-negative.txt\", 'r') as f:\n",
    "    neg_list = f.read().split('\\n')\n",
    "\n",
    "def json_str_parser(data):    \n",
    "    reply = []\n",
    "    reply_raw = data\n",
    "    tmp = reply_raw[2:-2].split('}, {')\n",
    "    for i, w in enumerate(tmp):\n",
    "        reply.append([\n",
    "            w[w.index(\"\"\"\"push_tag\": \"\"\") + len(\"\"\"\\\"push_tag\": \\\"\"\"\"):w.index(\"\"\"\\\", \"push_date\\\":\"\"\")],\n",
    "            w[w.index(\"\"\", \"push_user\": \"\"\") + len(\"\"\", \\\"push_user\\\": \\\"\"\"\"):w.index(\"\"\"\\\", \"push_content\": \\\"\"\"\")],\n",
    "            w[w.index(\"\"\"push_content\\\": \\\":\"\"\") + len(\"\"\"push_content\": \":\"\"\"):],\n",
    "            w[w.index(\"\"\", \"push_date\": \"\"\") + len(\"\"\", \\\"push_date\\\": \\\"\"\"\"):w.index(\"\\n\")]\n",
    "            ])\n",
    "    return reply\n",
    "\n",
    "def cal_content_weight(reply):\n",
    "    pos_reply, neg_reply, all_reply = 0, 0, 0\n",
    "    for tag, user, content, ip_and_time in reply:\n",
    "        if '推' in tag:\n",
    "            pos_reply += 1\n",
    "        elif '噓' in tag:\n",
    "            neg_reply += 1\n",
    "        all_reply += 1\n",
    "    pos_weight, neg_weight = pos_reply / all_reply, neg_reply / all_reply\n",
    "    return pos_weight, neg_weight"
   ]
  },
  {
   "cell_type": "code",
   "execution_count": 3,
   "metadata": {},
   "outputs": [],
   "source": [
    "pos_day_result = []\n",
    "neg_day_result = []\n",
    "day = []\n",
    "for i in data:\n",
    "    day.append(i[1])\n",
    "    reply = json_str_parser(i[2])\n",
    "    pos_score, neg_score = 0, 0\n",
    "    combine_all_reply_string = \"\".join([w[2] for w in reply])\n",
    "    reply_count = len(reply)\n",
    "    for pos in pos_list:\n",
    "        pos_score += combine_all_reply_string.count(pos)\n",
    "    for neg in neg_list:\n",
    "        neg_score += combine_all_reply_string.count(neg)\n",
    "    pos_weight, neg_weight = cal_content_weight(reply)\n",
    "    pos_day_result.append(pos_weight*pos_score)\n",
    "    neg_day_result.append(neg_weight*neg_score)"
   ]
  },
  {
   "cell_type": "code",
   "execution_count": 5,
   "metadata": {},
   "outputs": [
    {
     "data": {
      "image/png": "[encoded data removed]",
      "text/plain": [
       "<Figure size 432x288 with 1 Axes>"
      ]
     },
     "metadata": {},
     "output_type": "display_data"
    }
   ],
   "source": [
    "from matplotlib import pyplot as plt\n",
    "plt.plot(day, pos_day_result)\n",
    "plt.plot(day, neg_day_result)\n",
    "plt.show()"
   ]
  },
  {
   "cell_type": "code",
   "execution_count": null,
   "metadata": {},
   "outputs": [],
   "source": []
  }
 ],
 "metadata": {
  "kernelspec": {
   "display_name": "Python 3",
   "language": "python",
   "name": "python3"
  },
  "language_info": {
   "codemirror_mode": {
    "name": "ipython",
    "version": 3
   },
   "file_extension": ".py",
   "mimetype": "text/x-python",
   "name": "python",
   "nbconvert_exporter": "python",
   "pygments_lexer": "ipython3",
   "version": "3.6.5"
  }
 },
 "nbformat": 4,
 "nbformat_minor": 2
}

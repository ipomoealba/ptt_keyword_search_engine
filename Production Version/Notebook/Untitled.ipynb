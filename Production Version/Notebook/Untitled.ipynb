{
 "cells": [
  {
   "cell_type": "code",
   "execution_count": 1,
   "metadata": {},
   "outputs": [],
   "source": [
    "w = '\"push_content\": \": 有奶子嗎\", \"push_tag\": \"→ \", \"push_user\": \"VVizZ\", \"push_date\": \" 211.21.120.163 08/06 16:58\\n'\n"
   ]
  },
  {
   "cell_type": "code",
   "execution_count": 36,
   "metadata": {},
   "outputs": [
    {
     "name": "stdout",
     "output_type": "stream",
     "text": [
      "\n",
      "→\n",
      "VVizZ\n",
      "211.21.120.163 08/06 1658\n"
     ]
    }
   ],
   "source": [
    "tmp_result = [\"\", \"\", \"\", \"\"]\n",
    "for i in w.split('\", \"'):\n",
    "    if \"push_content\" in i:\n",
    "        print()\n",
    "        result[2] = i[len(\"push_content\")+1:].replace(\"\\\"\", \"\").replace(\":\", \"\").strip()\n",
    "    if \"push_tag\" in i:\n",
    "        print(i[len(\"push_tag\")+2: ].replace(\"\\\"\", \"\").replace(\":\", \"\").strip())\n",
    "        result[0] = i[len(\"push_tag\")+2: ].replace(\"\\\"\", \"\").replace(\":\", \"\").strip()\n",
    "    if \"push_user\" in i:\n",
    "        print(i[len(\"push_user\")+1: ].replace(\"\\\"\", \"\").replace(\":\", \"\").strip())\n",
    "        result[1] = i[len(\"push_user\")+1: ].replace(\"\\\"\", \"\").replace(\":\", \"\").strip()\n",
    "    if \"push_date\" in i:\n",
    "        print(i[len(\"push_date\")+1: ].replace(\"\\\"\", \"\").replace(\":\", \"\").strip())\n",
    "        result[3] = i[len(\"push_date\")+1: ].replace(\"\\\"\", \"\").replace(\":\", \"\").strip()"
   ]
  },
  {
   "cell_type": "code",
   "execution_count": 37,
   "metadata": {},
   "outputs": [],
   "source": [
    "w2 = '\\n\"push_tag\": \"→ \", \"push_date\": \" 01/01 00:42\\n\", \"push_user\": \"henrycc\", \"push_content\": \": 早就超過了\"\\n'\n"
   ]
  },
  {
   "cell_type": "code",
   "execution_count": 38,
   "metadata": {},
   "outputs": [
    {
     "name": "stdout",
     "output_type": "stream",
     "text": [
      " → \n",
      "早就超過了\n",
      "\n"
     ]
    }
   ],
   "source": [
    "for k in w2.split('\", \"'):\n",
    "    if \"push_content\" in k:\n",
    "        print(k[len(\"push_content\")+ 6:].replace(\"\\\"\", \"\").replace(\":\", \"\"))\n",
    "    if \"push_tag\" in k:\n",
    "        print(k[len(\"push_tag\")+2:len(\"push_tag\")+10 ].replace(\"\\\"\", \"\").replace(\":\", \"\"))    "
   ]
  },
  {
   "cell_type": "code",
   "execution_count": 39,
   "metadata": {},
   "outputs": [
    {
     "data": {
      "text/plain": [
       "['→', 'VVizZ', '有奶子嗎', '211.21.120.163 08/06 1658']"
      ]
     },
     "execution_count": 39,
     "metadata": {},
     "output_type": "execute_result"
    }
   ],
   "source": [
    "result"
   ]
  },
  {
   "cell_type": "code",
   "execution_count": null,
   "metadata": {},
   "outputs": [],
   "source": []
  }
 ],
 "metadata": {
  "kernelspec": {
   "display_name": "Python 3",
   "language": "python",
   "name": "python3"
  },
  "language_info": {
   "codemirror_mode": {
    "name": "ipython",
    "version": 3
   },
   "file_extension": ".py",
   "mimetype": "text/x-python",
   "name": "python",
   "nbconvert_exporter": "python",
   "pygments_lexer": "ipython3",
   "version": "3.6.5"
  }
 },
 "nbformat": 4,
 "nbformat_minor": 2
}
